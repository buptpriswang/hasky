{
 "cells": [
  {
   "cell_type": "code",
   "execution_count": 1,
   "metadata": {
    "collapsed": false
   },
   "outputs": [],
   "source": [
    "%matplotlib inline\n",
    "import matplotlib.pyplot as plt"
   ]
  },
  {
   "cell_type": "code",
   "execution_count": 2,
   "metadata": {
    "collapsed": false
   },
   "outputs": [
    {
     "name": "stderr",
     "output_type": "stream",
     "text": [
      "tensorflow_version: 1.2.0-rc0\n"
     ]
    }
   ],
   "source": [
    "from __future__ import absolute_import\n",
    "from __future__ import division\n",
    "from __future__ import print_function\n",
    "\n",
    "import tensorflow as tf\n",
    "flags = tf.app.flags\n",
    "FLAGS = flags.FLAGS\n",
    "flags.DEFINE_string('vocab', '/home/gezi/temp/textsum/tfrecord/seq-basic/train/vocab.txt', 'vocabulary file')\n",
    "\n",
    "import sys, os, math\n",
    "import gezi, melt\n",
    "import numpy as np\n",
    "\n",
    "from deepiu.util import text2ids\n",
    "\n",
    "try:\n",
    "    import conf  \n",
    "    from conf import TEXT_MAX_WORDS, INPUT_TEXT_MAX_WORDS\n",
    "except Exception:\n",
    "    TEXT_MAX_WORDS = 20\n",
    "    INPUT_TEXT_MAX_WORDS = 20\n",
    "    \n",
    "decode_max_words = 10"
   ]
  },
  {
   "cell_type": "code",
   "execution_count": 3,
   "metadata": {
    "collapsed": true
   },
   "outputs": [],
   "source": [
    "def _text2ids(text, max_words):\n",
    "  word_ids = text2ids.text2ids(text, \n",
    "                               seg_method='basic', \n",
    "                               feed_single=True, \n",
    "                               allow_all_zero=True, \n",
    "                               pad=False)\n",
    "  #word_ids.append(text2ids.vocab.end_id())\n",
    "  word_ids = word_ids[:max_words]\n",
    "  word_ids = gezi.pad(word_ids, max_words, 0)\n",
    "\n",
    "  return word_ids"
   ]
  },
  {
   "cell_type": "code",
   "execution_count": 4,
   "metadata": {
    "collapsed": true
   },
   "outputs": [],
   "source": [
    "from libgezi import utf82gbk, gbk2utf8\n",
    "def predict(predictor, input_text, num_show=1):\n",
    "  input_text = utf82gbk(input_text)\n",
    "  word_ids = _text2ids(input_text, INPUT_TEXT_MAX_WORDS)\n",
    "  print('word_ids', word_ids, 'len:', len(word_ids))\n",
    "  print(gbk2utf8(text2ids.ids2text(word_ids)))\n",
    "\n",
    "  timer = gezi.Timer()\n",
    "  init_states = predictor.inference([\n",
    "                                        'beam_search_beam_size',\n",
    "                                        'beam_search_initial_state', \n",
    "                                        'beam_search_initial_ids', \n",
    "                                        'beam_search_initial_logprobs',\n",
    "                                        'beam_search_initial_alignments'\n",
    "                                        ], \n",
    "                                        feed_dict= {\n",
    "                                          tf.get_collection('input_text_feed')[0] : [word_ids]\n",
    "                                        })\n",
    "\n",
    "  step_func = lambda input_feed, state_feed : predictor.inference([\n",
    "                                        'beam_search_state', \n",
    "                                        'beam_search_ids', \n",
    "                                        'beam_search_logprobs',\n",
    "                                        'beam_search_alignments', \n",
    "                                        ], \n",
    "                                        feed_dict= {\n",
    "                                          #TODO...attetion still need input_text feed, see rnn_decoder.py  beam_search_step\n",
    "                                          #but not hurt perfomance much because encoder is fast? Is it possible to avoid this?\n",
    "                                          #anyway if no attention  will not need input_text_feed\n",
    "                                          tf.get_collection('input_text_feed')[0] : [word_ids],\n",
    "                                          tf.get_collection('beam_search_input_feed')[0] : input_feed,\n",
    "                                          tf.get_collection('beam_search_state_feed')[0] : state_feed\n",
    "                                        })\n",
    "\n",
    "  max_words = decode_max_words if decode_max_words else TEXT_MAX_WORDS\n",
    "  beams = melt.seq2seq.beam_search(init_states, \n",
    "                                   step_func, \n",
    "                                   end_id=text2ids.end_id(), \n",
    "                                   max_words=max_words, \n",
    "                                   length_normalization_factor=0.)\n",
    "\n",
    "  #print(len(beams))\n",
    "  #x_labels = [gbk2utf8(text2ids.vocab.key(x)).encode('utf8') for x in word_ids]\n",
    "  for i, beam in enumerate(beams):\n",
    "    if i == num_show:\n",
    "      break\n",
    "    print(gbk2utf8(text2ids.ids2text(word_ids)))\n",
    "    print(i, beam.words, gbk2utf8(text2ids.ids2text(beam.words)), math.exp(beam.logprob), beam.logprob, beam.score, beam.logprobs)\n",
    "    #print(beam.alignments_list)\n",
    "\n",
    "    #plt.matshow(beam.alignments_list)\n",
    "    \n",
    "    fig = plt.figure()\n",
    "    ax = fig.add_subplot(111)\n",
    "    cax = ax.matshow(beam.alignments_list, interpolation='nearest')\n",
    "    #fig.colorbar(cax)\n",
    "\n",
    "    #ax.set_xticklabels(['']+x_labels)\n",
    "    #ax.set_yticklabels(['']+alpha)\n",
    "\n",
    "    plt.show()\n",
    "\n",
    "\n",
    "  print('beam search using time(ms):', timer.elapsed_ms())"
   ]
  },
  {
   "cell_type": "code",
   "execution_count": 5,
   "metadata": {
    "collapsed": false
   },
   "outputs": [
    {
     "name": "stdout",
     "output_type": "stream",
     "text": [
      "/home/gezi/temp/textsum/tfrecord/seq-basic/train/vocab.txt\n"
     ]
    }
   ],
   "source": [
    "print(FLAGS.vocab)"
   ]
  },
  {
   "cell_type": "code",
   "execution_count": 6,
   "metadata": {
    "collapsed": false
   },
   "outputs": [
    {
     "name": "stderr",
     "output_type": "stream",
     "text": [
      "ENCODE_UNK 1\n",
      "restore from /home/gezi/new/temp/textsum/model.seq2seq.attention.luong/model.ckpt-6.8-571000\n"
     ]
    },
    {
     "name": "stdout",
     "output_type": "stream",
     "text": [
      "INFO:tensorflow:Restoring parameters from /home/gezi/new/temp/textsum/model.seq2seq.attention.luong/model.ckpt-6.8-571000\n"
     ]
    },
    {
     "name": "stderr",
     "output_type": "stream",
     "text": [
      "import graph ok /home/gezi/new/temp/textsum/model.seq2seq.attention.luong/model.ckpt-6.8-571000.meta\n",
      "restore ok /home/gezi/new/temp/textsum/model.seq2seq.attention.luong/model.ckpt-6.8-571000\n"
     ]
    }
   ],
   "source": [
    "text2ids.init(FLAGS.vocab)\n",
    "#model_dir='/home/gezi/temp/textsum/model.seq2seq.attention.encode_end/'\n",
    "model_dir='/home/gezi/new/temp/textsum/model.seq2seq.attention.luong'\n",
    "predictor = melt.Predictor(model_dir)\n",
    "\n",
    "def inference(text, num_show=1):\n",
    "  predict(predictor, text, num_show=num_show)"
   ]
  },
  {
   "cell_type": "code",
   "execution_count": 7,
   "metadata": {
    "collapsed": false
   },
   "outputs": [
    {
     "data": {
      "text/html": [
       "<style>\n",
       ".output_wrapper, .output {\n",
       "    height:auto !important;\n",
       "    max-height:10000px;  /* your desired max-height here */\n",
       "}\n",
       ".output_scroll {\n",
       "    box-shadow:none !important;\n",
       "    webkit-box-shadow:none !important;\n",
       "}\n",
       "</style>"
      ],
      "text/plain": [
       "<IPython.core.display.HTML object>"
      ]
     },
     "metadata": {},
     "output_type": "display_data"
    }
   ],
   "source": [
    "%%html\n",
    "<style>\n",
    ".output_wrapper, .output {\n",
    "    height:auto !important;\n",
    "    max-height:10000px;  /* your desired max-height here */\n",
    "}\n",
    ".output_scroll {\n",
    "    box-shadow:none !important;\n",
    "    webkit-box-shadow:none !important;\n",
    "}\n",
    "</style>"
   ]
  },
  {
   "cell_type": "code",
   "execution_count": 8,
   "metadata": {
    "collapsed": false
   },
   "outputs": [
    {
     "name": "stdout",
     "output_type": "stream",
     "text": [
      "word_ids [5143, 5088, 7316, 532, 13, 691, 742, 805, 5143, 5088, 7316, 532, 13, 11810, 16506, 0, 0, 0, 0, 0] len: 20\n",
      "大棚/辣椒/果实/变/小/怎么/办/,/大棚/辣椒/果实/变/小/防治/措施\n",
      "大棚/辣椒/果实/变/小/怎么/办/,/大棚/辣椒/果实/变/小/防治/措施\n",
      "0 [2893, 3701, 1] 蔬菜/种植/<EOS> 0.00955107477246 -4.6511 -4.6511 [-2.276756, -1.3827589, -0.99158651]\n"
     ]
    },
    {
     "data": {
      "image/png": "[encoded data removed]",
      "text/plain": [
       "<matplotlib.figure.Figure at 0x46d7650>"
      ]
     },
     "metadata": {},
     "output_type": "display_data"
    },
    {
     "name": "stdout",
     "output_type": "stream",
     "text": [
      "beam search using time(ms): 962.445020676\n",
      "word_ids [214, 899, 322, 1866, 949, 0, 0, 0, 0, 0, 0, 0, 0, 0, 0, 0, 0, 0, 0, 0] len: 20\n",
      "你/去/打/篮球/吗\n",
      "你/去/打/篮球/吗\n",
      "0 [322, 1866, 1] 打/篮球/<EOS> 0.096131690908 -2.34204 -2.34204 [-0.65660387, -0.0065855617, -1.6788467]\n"
     ]
    },
    {
     "data": {
      "image/png": "[encoded data removed]",
      "text/plain": [
       "<matplotlib.figure.Figure at 0x19fecbd0>"
      ]
     },
     "metadata": {},
     "output_type": "display_data"
    },
    {
     "name": "stdout",
     "output_type": "stream",
     "text": [
      "beam search using time(ms): 256.08587265\n",
      "word_ids [322, 1866, 214, 899, 949, 0, 0, 0, 0, 0, 0, 0, 0, 0, 0, 0, 0, 0, 0, 0] len: 20\n",
      "打/篮球/你/去/吗\n",
      "打/篮球/你/去/吗\n",
      "0 [322, 1866, 1] 打/篮球/<EOS> 0.066580586276 -2.70934 -2.70934 [-0.86926389, -0.0090493541, -1.8310291]\n"
     ]
    },
    {
     "data": {
      "image/png": "[encoded data removed]",
      "text/plain": [
       "<matplotlib.figure.Figure at 0x46d7f10>"
      ]
     },
     "metadata": {},
     "output_type": "display_data"
    },
    {
     "name": "stdout",
     "output_type": "stream",
     "text": [
      "beam search using time(ms): 260.673999786\n",
      "word_ids [1492, 210, 267, 244, 655, 8, 22731, 80, 40621, 0, 0, 0, 0, 0, 0, 0, 0, 0, 0, 0] len: 20\n",
      "这/是/周/华/健/的/新歌/爱/相随\n",
      "这/是/周/华/健/的/新歌/爱/相随\n",
      "0 [267, 244, 655, 1] 周/华/健/<EOS> 0.190454128027 -1.65834 -1.65834 [-0.28877574, -0.14913641, -0.043803614, -1.1766281]\n"
     ]
    },
    {
     "data": {
      "image/png": "[encoded data removed]",
      "text/plain": [
       "<matplotlib.figure.Figure at 0x19fecf90>"
      ]
     },
     "metadata": {},
     "output_type": "display_data"
    },
    {
     "name": "stdout",
     "output_type": "stream",
     "text": [
      "beam search using time(ms): 278.081893921\n",
      "word_ids [25394, 84, 2743, 19, 807, 752, 805, 31304, 3123, 84, 2102, 1804, 0, 0, 0, 0, 0, 0, 0, 0] len: 20\n",
      "年少/不/懂/高/晓/松/,/读懂/已/不/再/少年\n",
      "年少/不/懂/高/晓/松/,/读懂/已/不/再/少年\n",
      "0 [19, 807, 752, 1] 高/晓/松/<EOS> 0.0406965581162 -3.20161 -3.20161 [-1.9274502, -0.42321333, -0.11868184, -0.73226643]\n"
     ]
    },
    {
     "data": {
      "image/png": "[encoded data removed]",
      "text/plain": [
       "<matplotlib.figure.Figure at 0x19650a10>"
      ]
     },
     "metadata": {},
     "output_type": "display_data"
    },
    {
     "name": "stdout",
     "output_type": "stream",
     "text": [
      "beam search using time(ms): 244.354009628\n",
      "word_ids [60, 811, 2742, 235, 949, 3383, 60, 811, 2742, 2841, 1679, 57, 0, 0, 0, 0, 0, 0, 0, 0] len: 20\n",
      "王/凯/整容/了/吗/_/王/凯/整容/前后/对比/照片\n",
      "王/凯/整容/了/吗/_/王/凯/整容/前后/对比/照片\n",
      "0 [60, 811, 2742, 503, 57, 1] 王/凯/整容/前/照片/<EOS> 0.0573600335719 -2.85841 -2.85841 [-0.60604089, -0.0098575465, -0.19275108, -1.0899825, -0.87254107, -0.087234415]\n"
     ]
    },
    {
     "data": {
      "image/png": "[encoded data removed]",
      "text/plain": [
       "<matplotlib.figure.Figure at 0xaecd1d0>"
      ]
     },
     "metadata": {},
     "output_type": "display_data"
    },
    {
     "name": "stdout",
     "output_type": "stream",
     "text": [
      "beam search using time(ms): 263.439893723\n",
      "word_ids [6423, 1083, 5327, 226, 24332, 668, 668, 163, 13, 4073, 62, 107, 0, 0, 0, 0, 0, 0, 0, 0] len: 20\n",
      "【/贴图/】/韩/敏英/-/-/性感/小/吊带/黑/丝\n",
      "【/贴图/】/韩/敏英/-/-/性感/小/吊带/黑/丝\n",
      "0 [163, 62, 107, 1] 性感/黑/丝/<EOS> 0.01322253951 -4.32583 -4.32583 [-1.1990755, -1.3381264, -0.011833117, -1.7767972]\n"
     ]
    },
    {
     "data": {
      "image/png": "[encoded data removed]",
      "text/plain": [
       "<matplotlib.figure.Figure at 0x19e6ac50>"
      ]
     },
     "metadata": {},
     "output_type": "display_data"
    },
    {
     "name": "stdout",
     "output_type": "stream",
     "text": [
      "beam search using time(ms): 257.36117363\n",
      "word_ids [1672, 485, 3243, 533, 392, 5154, 8, 1733, 16400, 670, 1817, 36325, 7, 1311, 148, 7, 31396, 213, 1343, 872] len: 20\n",
      "彭/于/晏/都/力/荐/的/《/寒战/2/》/imax/ /3d/版/ /华龙/网/送/票\n",
      "彭/于/晏/都/力/荐/的/《/寒战/2/》/imax/ /3d/版/ /华龙/网/送/票\n",
      "0 [16400, 670, 1] 寒战/2/<EOS> 0.0209531934864 -3.86546 -3.86546 [-2.1592665, -0.18988812, -1.5163097]\n"
     ]
    },
    {
     "data": {
      "image/png": "[encoded data removed]",
      "text/plain": [
       "<matplotlib.figure.Figure at 0x1adbbfd0>"
      ]
     },
     "metadata": {},
     "output_type": "display_data"
    },
    {
     "name": "stdout",
     "output_type": "stream",
     "text": [
      "beam search using time(ms): 249.998092651\n",
      "word_ids [37, 14356, 7, 16948, 1513, 1481, 0, 0, 0, 0, 0, 0, 0, 0, 0, 0, 0, 0, 0, 0] len: 20\n",
      "美女/劈叉/ /鼻血/狂/喷\n",
      "美女/劈叉/ /鼻血/狂/喷\n",
      "0 [37, 14356, 1] 美女/劈叉/<EOS> 0.0142862953158 -4.24845 -4.24845 [-0.48869628, -3.0127354, -0.74702275]\n"
     ]
    },
    {
     "data": {
      "image/png": "[encoded data removed]",
      "text/plain": [
       "<matplotlib.figure.Figure at 0x101a83d0>"
      ]
     },
     "metadata": {},
     "output_type": "display_data"
    },
    {
     "name": "stdout",
     "output_type": "stream",
     "text": [
      "beam search using time(ms): 244.785070419\n",
      "word_ids [1817, 7, 1252, 228, 7, 4006, 228, 7, 0, 0, 0, 0, 0, 0, 0, 0, 0, 0, 0, 0] len: 20\n",
      "》/ /卫生/间/ /洗手/间/ \n",
      "》/ /卫生/间/ /洗手/间/ \n",
      "0 [1252, 228, 4006, 228, 1] 卫生/间/洗手/间/<EOS> 0.081863250784 -2.50271 -2.50271 [-0.81431478, -0.015170315, -0.55678809, -0.15636835, -0.96006346]\n"
     ]
    },
    {
     "data": {
      "image/png": "[encoded data removed]",
      "text/plain": [
       "<matplotlib.figure.Figure at 0x7f4dec016490>"
      ]
     },
     "metadata": {},
     "output_type": "display_data"
    },
    {
     "name": "stdout",
     "output_type": "stream",
     "text": [
      "beam search using time(ms): 269.613027573\n",
      "word_ids [2234, 7, 3885, 4193, 828, 146, 30, 0, 0, 0, 0, 0, 0, 0, 0, 0, 0, 0, 0, 0] len: 20\n",
      "iphone/ /6s/耐克/主题/手机/壁纸\n",
      "iphone/ /6s/耐克/主题/手机/壁纸\n",
      "0 [3885, 146, 30, 1] 6s/手机/壁纸/<EOS> 0.0127215655146 -4.36446 -4.36446 [-1.5603054, -1.0904219, -0.56205285, -1.1516768]\n"
     ]
    },
    {
     "data": {
      "image/png": "[encoded data removed]",
      "text/plain": [
       "<matplotlib.figure.Figure at 0x1af68150>"
      ]
     },
     "metadata": {},
     "output_type": "display_data"
    },
    {
     "name": "stdout",
     "output_type": "stream",
     "text": [
      "beam search using time(ms): 250.036001205\n"
     ]
    }
   ],
   "source": [
    "predict(predictor, \"大棚辣椒果实变小怎么办,大棚辣椒果实变小防治措施\")\n",
    "predict(predictor, '你去打篮球吗')\n",
    "predict(predictor, '打篮球你去吗')\n",
    "predict(predictor, '这是周华健的新歌爱相随')\n",
    "inference('年少不懂高晓松,读懂已不再少年')\n",
    "inference('王凯整容了吗_王凯整容前后对比照片')\n",
    "inference('【贴图】韩敏英--性感小吊带黑丝')\n",
    "inference('彭于晏都力荐的《寒战2》imax 3d版 华龙网送票邀你提前看')\n",
    "inference('美女劈叉 鼻血狂喷')\n",
    "inference('》 卫生间 洗手间 ')\n",
    "inference('iphone 6s耐克主题手机壁纸')"
   ]
  },
  {
   "cell_type": "code",
   "execution_count": 9,
   "metadata": {
    "collapsed": false
   },
   "outputs": [
    {
     "name": "stdout",
     "output_type": "stream",
     "text": [
      "word_ids [8246, 9974, 1298, 426, 775, 448, 2238, 1800, 88, 2340, 7, 0, 0, 0, 0, 0, 0, 0, 0, 0] len: 20\n",
      "蜀山/战纪/赵丽/颖/古装/剧照/(/12/张/)/ \n",
      "蜀山/战纪/赵丽/颖/古装/剧照/(/12/张/)/ \n",
      "0 [1298, 426, 775, 448, 1] 赵丽/颖/古装/剧照/<EOS> 0.0904333454662 -2.40314 -2.40314 [-0.2888431, -0.000915704, -0.44250178, -1.3284128, -0.34246892]\n"
     ]
    },
    {
     "data": {
      "image/png": "[encoded data removed]",
      "text/plain": [
       "<matplotlib.figure.Figure at 0x17f3d1d0>"
      ]
     },
     "metadata": {},
     "output_type": "display_data"
    },
    {
     "name": "stdout",
     "output_type": "stream",
     "text": [
      "beam search using time(ms): 255.420923233\n"
     ]
    }
   ],
   "source": [
    "inference('蜀山战纪赵丽颖古装剧照(12张) ')"
   ]
  },
  {
   "cell_type": "code",
   "execution_count": 10,
   "metadata": {
    "collapsed": false
   },
   "outputs": [
    {
     "name": "stdout",
     "output_type": "stream",
     "text": [
      "word_ids [323, 56, 758, 45, 301, 9147, 1733, 410, 570, 1100, 8, 6091, 1817, 0, 0, 0, 0, 0, 0, 0] len: 20\n",
      "幼儿/园/动物/简/笔画/教案/《/两/条/漂亮/的/小鱼/》\n",
      "幼儿/园/动物/简/笔画/教案/《/两/条/漂亮/的/小鱼/》\n",
      "0 [323, 56, 45, 301, 758, 1] 幼儿/园/简/笔画/动物/<EOS> 0.0105727616649 -4.54947 -4.54947 [-1.0154142, -0.21651831, -1.2958692, -0.027217913, -1.2525972, -0.74185735]\n"
     ]
    },
    {
     "data": {
      "image/png": "[encoded data removed]",
      "text/plain": [
       "<matplotlib.figure.Figure at 0x1af8c550>"
      ]
     },
     "metadata": {},
     "output_type": "display_data"
    },
    {
     "name": "stdout",
     "output_type": "stream",
     "text": [
      "beam search using time(ms): 246.584892273\n"
     ]
    }
   ],
   "source": [
    "inference('幼儿园动物简笔画教案《两条漂亮的小鱼》')"
   ]
  },
  {
   "cell_type": "code",
   "execution_count": 11,
   "metadata": {
    "collapsed": false
   },
   "outputs": [
    {
     "name": "stdout",
     "output_type": "stream",
     "text": [
      "word_ids [334, 595, 85, 1034, 11, 5593, 121, 389, 0, 0, 0, 0, 0, 0, 0, 0, 0, 0, 0, 0] len: 20\n",
      "第/六/感/美甲/美/睫/纹/秀\n",
      "第/六/感/美甲/美/睫/纹/秀\n",
      "0 [1034, 11, 5593, 1] 美甲/美/睫/<EOS> 0.0314295510038 -3.46001 -3.46001 [-0.39742136, -1.4043508, -0.41861746, -1.2396171]\n"
     ]
    },
    {
     "data": {
      "image/png": "[encoded data removed]",
      "text/plain": [
       "<matplotlib.figure.Figure at 0x1adafa90>"
      ]
     },
     "metadata": {},
     "output_type": "display_data"
    },
    {
     "name": "stdout",
     "output_type": "stream",
     "text": [
      "beam search using time(ms): 266.176939011\n"
     ]
    }
   ],
   "source": [
    "inference('第六感美甲美睫纹秀')"
   ]
  },
  {
   "cell_type": "code",
   "execution_count": 12,
   "metadata": {
    "collapsed": false
   },
   "outputs": [
    {
     "name": "stdout",
     "output_type": "stream",
     "text": [
      "word_ids [4305, 5762, 3136, 5697, 2060, 389, 1961, 0, 0, 0, 0, 0, 0, 0, 0, 0, 0, 0, 0, 0] len: 20\n",
      "2013/春夏/男装/米兰/时装/秀/9\n",
      "2013/春夏/男装/米兰/时装/秀/9\n",
      "0 [2060, 389, 1] 时装/秀/<EOS> 0.0398101533736 -3.22363 -3.22363 [-1.8280451, -0.018203575, -1.3773844]\n"
     ]
    },
    {
     "data": {
      "image/png": "[encoded data removed]",
      "text/plain": [
       "<matplotlib.figure.Figure at 0x1c772110>"
      ]
     },
     "metadata": {},
     "output_type": "display_data"
    },
    {
     "name": "stdout",
     "output_type": "stream",
     "text": [
      "beam search using time(ms): 239.30478096\n"
     ]
    }
   ],
   "source": [
    "inference('2013春夏男装米兰时装秀9')"
   ]
  },
  {
   "cell_type": "code",
   "execution_count": 13,
   "metadata": {
    "collapsed": false
   },
   "outputs": [
    {
     "name": "stdout",
     "output_type": "stream",
     "text": [
      "word_ids [772, 7630, 67, 89652, 8, 19841, 0, 0, 0, 0, 0, 0, 0, 0, 0, 0, 0, 0, 0, 0] len: 20\n",
      "关于/房价/最/透彻/的/解读\n",
      "关于/房价/最/透彻/的/解读\n",
      "0 [7630, 18755, 1] 房价/上涨/<EOS> 0.0117920405429 -4.44033 -4.44033 [-2.2276981, -1.6943672, -0.51826549]\n"
     ]
    },
    {
     "data": {
      "image/png": "[encoded data removed]",
      "text/plain": [
       "<matplotlib.figure.Figure at 0x1c795210>"
      ]
     },
     "metadata": {},
     "output_type": "display_data"
    },
    {
     "name": "stdout",
     "output_type": "stream",
     "text": [
      "beam search using time(ms): 254.498004913\n"
     ]
    }
   ],
   "source": [
    "inference('关于房价最透彻的解读')"
   ]
  },
  {
   "cell_type": "code",
   "execution_count": 14,
   "metadata": {
    "collapsed": false
   },
   "outputs": [
    {
     "name": "stdout",
     "output_type": "stream",
     "text": [
      "word_ids [4667, 630, 7902, 51, 1297, 10515, 4961, 7170, 16504, 3467, 25032, 0, 0, 0, 0, 0, 0, 0, 0, 0] len: 20\n",
      "辽宁/省/中小/学/教师/职称/制度/改革/实施/方案/出台\n",
      "辽宁/省/中小/学/教师/职称/制度/改革/实施/方案/出台\n",
      "0 [10515, 4961, 1] 职称/制度/<EOS> 0.00240857406978 -6.02872 -6.02872 [-3.6764708, -1.8607087, -0.49154103]\n"
     ]
    },
    {
     "data": {
      "image/png": "[encoded data removed]",
      "text/plain": [
       "<matplotlib.figure.Figure at 0x1c79a110>"
      ]
     },
     "metadata": {},
     "output_type": "display_data"
    },
    {
     "name": "stdout",
     "output_type": "stream",
     "text": [
      "beam search using time(ms): 266.722917557\n"
     ]
    }
   ],
   "source": [
    "inference('辽宁省中小学教师职称制度改革实施方案出台')"
   ]
  },
  {
   "cell_type": "code",
   "execution_count": 15,
   "metadata": {
    "collapsed": false
   },
   "outputs": [
    {
     "name": "stdout",
     "output_type": "stream",
     "text": [
      "word_ids [4470, 452, 208, 0, 0, 0, 0, 0, 0, 0, 0, 0, 0, 0, 0, 0, 0, 0, 0, 0] len: 20\n",
      "骷髅/情侣/纹身\n",
      "骷髅/情侣/纹身\n",
      "0 [4470, 208, 1] 骷髅/纹身/<EOS> 0.0276562444342 -3.5879 -3.5879 [-1.9083782, -0.81976724, -0.8597582]\n"
     ]
    },
    {
     "data": {
      "image/png": "[encoded data removed]",
      "text/plain": [
       "<matplotlib.figure.Figure at 0x1ae5cc10>"
      ]
     },
     "metadata": {},
     "output_type": "display_data"
    },
    {
     "name": "stdout",
     "output_type": "stream",
     "text": [
      "beam search using time(ms): 242.696046829\n"
     ]
    }
   ],
   "source": [
    "inference('骷髅情侣纹身')"
   ]
  },
  {
   "cell_type": "code",
   "execution_count": 24,
   "metadata": {
    "collapsed": false
   },
   "outputs": [
    {
     "name": "stdout",
     "output_type": "stream",
     "text": [
      "word_ids [42999, 869, 1474, 363, 8, 164, 926, 649, 0, 0, 0, 0, 0, 0, 0, 0, 0, 0, 0, 0] len: 20\n",
      "酷似/朴/姬/兰/的/刘/亦/菲\n",
      "酷似/朴/姬/兰/的/刘/亦/菲\n",
      "0 [164, 926, 649, 1] 刘/亦/菲/<EOS> 0.0689416199511 -2.6745 -2.6745 [-0.60090029, -0.0024729169, -0.0023142719, -2.0688078]\n"
     ]
    },
    {
     "data": {
      "image/png": "[encoded data removed]",
      "text/plain": [
       "<matplotlib.figure.Figure at 0x1d93f0d0>"
      ]
     },
     "metadata": {},
     "output_type": "display_data"
    },
    {
     "name": "stdout",
     "output_type": "stream",
     "text": [
      "酷似/朴/姬/兰/的/刘/亦/菲\n",
      "1 [164, 926, 649, 6, 1] 刘/亦/菲/图片/<EOS> 0.021015641823 -3.86249 -3.86249 [-0.60090029, -0.0024729169, -0.0023142719, -2.7309277, -0.52587306]\n"
     ]
    },
    {
     "data": {
      "image/png": "[encoded data removed]",
      "text/plain": [
       "<matplotlib.figure.Figure at 0x1db90d90>"
      ]
     },
     "metadata": {},
     "output_type": "display_data"
    },
    {
     "name": "stdout",
     "output_type": "stream",
     "text": [
      "酷似/朴/姬/兰/的/刘/亦/菲\n",
      "2 [20, 1] <UNK>/<EOS> 0.0131902658455 -4.32828 -4.32828 [-3.7151561, -0.6131202]\n"
     ]
    },
    {
     "data": {
      "image/png": "[encoded data removed]",
      "text/plain": [
       "<matplotlib.figure.Figure at 0x1dbb3e10>"
      ]
     },
     "metadata": {},
     "output_type": "display_data"
    },
    {
     "name": "stdout",
     "output_type": "stream",
     "text": [
      "酷似/朴/姬/兰/的/刘/亦/菲\n",
      "3 [164, 926, 649, 57, 1] 刘/亦/菲/照片/<EOS> 0.00565861945633 -5.17458 -5.17458 [-0.60090029, -0.0024729169, -0.0023142719, -4.152194, -0.41669351]\n"
     ]
    },
    {
     "data": {
      "image/png": "[encoded data removed]",
      "text/plain": [
       "<matplotlib.figure.Figure at 0x1dbacf50>"
      ]
     },
     "metadata": {},
     "output_type": "display_data"
    },
    {
     "name": "stdout",
     "output_type": "stream",
     "text": [
      "酷似/朴/姬/兰/的/刘/亦/菲\n",
      "4 [164, 926, 649, 319, 1] 刘/亦/菲/写真/<EOS> 0.00506656666591 -5.28509 -5.28509 [-0.60090029, -0.0024729169, -0.0023142719, -3.9398367, -0.73956758]\n"
     ]
    },
    {
     "data": {
      "image/png": "[encoded data removed]",
      "text/plain": [
       "<matplotlib.figure.Figure at 0x1e015d90>"
      ]
     },
     "metadata": {},
     "output_type": "display_data"
    },
    {
     "name": "stdout",
     "output_type": "stream",
     "text": [
      "酷似/朴/姬/兰/的/刘/亦/菲\n",
      "5 [164, 926, 649, 164, 926, 649, 1] 刘/亦/菲/刘/亦/菲/<EOS> 0.00390579361908 -5.54529 -5.54529 [-0.60090029, -0.0024729169, -0.0023142719, -3.9302332, -0.0040810169, -0.00155233, -1.0037404]\n"
     ]
    },
    {
     "data": {
      "image/png": "[encoded data removed]",
      "text/plain": [
       "<matplotlib.figure.Figure at 0x1dbb3110>"
      ]
     },
     "metadata": {},
     "output_type": "display_data"
    },
    {
     "name": "stdout",
     "output_type": "stream",
     "text": [
      "酷似/朴/姬/兰/的/刘/亦/菲\n",
      "6 [869, 1474, 363, 1] 朴/姬/兰/<EOS> 0.00281410700705 -5.87311 -5.87311 [-3.9738412, -0.080788642, -1.0656809, -0.75279957]\n"
     ]
    },
    {
     "data": {
      "image/png": "[encoded data removed]",
      "text/plain": [
       "<matplotlib.figure.Figure at 0x1d957790>"
      ]
     },
     "metadata": {},
     "output_type": "display_data"
    },
    {
     "name": "stdout",
     "output_type": "stream",
     "text": [
      "酷似/朴/姬/兰/的/刘/亦/菲\n",
      "7 [869, 1474, 1] 朴/姬/<EOS> 0.00254163685169 -5.97495 -5.97495 [-3.9738412, -0.080788642, -1.9203171]\n"
     ]
    },
    {
     "data": {
      "image/png": "[encoded data removed]",
      "text/plain": [
       "<matplotlib.figure.Figure at 0x1d68afd0>"
      ]
     },
     "metadata": {},
     "output_type": "display_data"
    },
    {
     "name": "stdout",
     "output_type": "stream",
     "text": [
      "酷似/朴/姬/兰/的/刘/亦/菲\n",
      "8 [164, 926, 649, 7, 319, 1] 刘/亦/菲/ /写真/<EOS> 0.00225285339725 -6.09556 -6.09556 [-0.60090029, -0.0024729169, -0.0023142719, -2.5139582, -2.505821, -0.47009155]\n"
     ]
    },
    {
     "data": {
      "image/png": "[encoded data removed]",
      "text/plain": [
       "<matplotlib.figure.Figure at 0x1d0ece10>"
      ]
     },
     "metadata": {},
     "output_type": "display_data"
    },
    {
     "name": "stdout",
     "output_type": "stream",
     "text": [
      "酷似/朴/姬/兰/的/刘/亦/菲\n",
      "9 [1474, 363, 1] 姬/兰/<EOS> 0.0022477232856 -6.09784 -6.09784 [-4.9632316, -0.20018679, -0.93441892]\n"
     ]
    },
    {
     "data": {
      "image/png": "[encoded data removed]",
      "text/plain": [
       "<matplotlib.figure.Figure at 0x19e6ac10>"
      ]
     },
     "metadata": {},
     "output_type": "display_data"
    },
    {
     "name": "stdout",
     "output_type": "stream",
     "text": [
      "beam search using time(ms): 1399.38306808\n"
     ]
    }
   ],
   "source": [
    "inference('酷似朴姬兰的刘亦菲', 10)"
   ]
  },
  {
   "cell_type": "code",
   "execution_count": 17,
   "metadata": {
    "collapsed": false
   },
   "outputs": [
    {
     "name": "stdout",
     "output_type": "stream",
     "text": [
      "word_ids [42999, 164, 926, 649, 8, 869, 1474, 363, 0, 0, 0, 0, 0, 0, 0, 0, 0, 0, 0, 0] len: 20\n",
      "酷似/刘/亦/菲/的/朴/姬/兰\n",
      "酷似/刘/亦/菲/的/朴/姬/兰\n",
      "0 [164, 926, 649, 1] 刘/亦/菲/<EOS> 0.0475892278281 -3.04515 -3.04515 [-1.050153, -0.006190293, -0.0041780095, -1.9846275]\n"
     ]
    },
    {
     "data": {
      "image/png": "[encoded data removed]",
      "text/plain": [
       "<matplotlib.figure.Figure at 0x1ae63290>"
      ]
     },
     "metadata": {},
     "output_type": "display_data"
    },
    {
     "name": "stdout",
     "output_type": "stream",
     "text": [
      "酷似/刘/亦/菲/的/朴/姬/兰\n",
      "1 [20, 1] <UNK>/<EOS> 0.0201227541962 -3.9059 -3.9059 [-3.3266222, -0.57928187]\n"
     ]
    },
    {
     "data": {
      "image/png": "[encoded data removed]",
      "text/plain": [
       "<matplotlib.figure.Figure at 0x1c9fde10>"
      ]
     },
     "metadata": {},
     "output_type": "display_data"
    },
    {
     "name": "stdout",
     "output_type": "stream",
     "text": [
      "酷似/刘/亦/菲/的/朴/姬/兰\n",
      "2 [164, 926, 649, 6, 1] 刘/亦/菲/图片/<EOS> 0.0155482912929 -4.1638 -4.1638 [-1.050153, -0.006190293, -0.0041780095, -2.7304227, -0.37286031]\n"
     ]
    },
    {
     "data": {
      "image/png": "[encoded data removed]",
      "text/plain": [
       "<matplotlib.figure.Figure at 0x1c9dce50>"
      ]
     },
     "metadata": {},
     "output_type": "display_data"
    },
    {
     "name": "stdout",
     "output_type": "stream",
     "text": [
      "酷似/刘/亦/菲/的/朴/姬/兰\n",
      "3 [869, 1474, 363, 1] 朴/姬/兰/<EOS> 0.0109538549424 -4.51406 -4.51406 [-2.8421929, -0.047058381, -0.9134329, -0.71138]\n"
     ]
    },
    {
     "data": {
      "image/png": "[encoded data removed]",
      "text/plain": [
       "<matplotlib.figure.Figure at 0x1c89ebd0>"
      ]
     },
     "metadata": {},
     "output_type": "display_data"
    },
    {
     "name": "stdout",
     "output_type": "stream",
     "text": [
      "酷似/刘/亦/菲/的/朴/姬/兰\n",
      "4 [869, 1474, 1] 朴/姬/<EOS> 0.0084918035442 -4.76865 -4.76865 [-2.8421929, -0.047058381, -1.8794029]\n"
     ]
    },
    {
     "data": {
      "image/png": "[encoded data removed]",
      "text/plain": [
       "<matplotlib.figure.Figure at 0x1ca7da90>"
      ]
     },
     "metadata": {},
     "output_type": "display_data"
    },
    {
     "name": "stdout",
     "output_type": "stream",
     "text": [
      "beam search using time(ms): 590.829133987\n"
     ]
    }
   ],
   "source": [
    "inference('酷似刘亦菲的朴姬兰', 5)"
   ]
  },
  {
   "cell_type": "code",
   "execution_count": 18,
   "metadata": {
    "collapsed": false
   },
   "outputs": [
    {
     "name": "stdout",
     "output_type": "stream",
     "text": [
      "word_ids [97, 80, 322, 1866, 0, 0, 0, 0, 0, 0, 0, 0, 0, 0, 0, 0, 0, 0, 0, 0] len: 20\n",
      "我/爱/打/篮球\n",
      "我/爱/打/篮球\n",
      "0 [322, 1866, 1] 打/篮球/<EOS> 0.0391312181272 -3.24083 -3.24083 [-1.5456082, -0.0061348462, -1.6890918]\n"
     ]
    },
    {
     "data": {
      "image/png": "[encoded data removed]",
      "text/plain": [
       "<matplotlib.figure.Figure at 0x1ca8e2d0>"
      ]
     },
     "metadata": {},
     "output_type": "display_data"
    },
    {
     "name": "stdout",
     "output_type": "stream",
     "text": [
      "beam search using time(ms): 225.339889526\n"
     ]
    }
   ],
   "source": [
    "inference('我爱打篮球')"
   ]
  },
  {
   "cell_type": "code",
   "execution_count": 19,
   "metadata": {
    "collapsed": false
   },
   "outputs": [
    {
     "name": "stdout",
     "output_type": "stream",
     "text": [
      "word_ids [322, 1866, 181, 84, 181, 0, 0, 0, 0, 0, 0, 0, 0, 0, 0, 0, 0, 0, 0, 0] len: 20\n",
      "打/篮球/好/不/好\n",
      "打/篮球/好/不/好\n",
      "0 [322, 1866, 1] 打/篮球/<EOS> 0.0380596556821 -3.2686 -3.2686 [-1.3900776, -0.0058805551, -1.8726424]\n"
     ]
    },
    {
     "data": {
      "image/png": "[encoded data removed]",
      "text/plain": [
       "<matplotlib.figure.Figure at 0x1cb720d0>"
      ]
     },
     "metadata": {},
     "output_type": "display_data"
    },
    {
     "name": "stdout",
     "output_type": "stream",
     "text": [
      "beam search using time(ms): 230.14497757\n"
     ]
    }
   ],
   "source": [
    "inference('打篮球好不好')"
   ]
  },
  {
   "cell_type": "code",
   "execution_count": 20,
   "metadata": {
    "collapsed": false
   },
   "outputs": [
    {
     "name": "stdout",
     "output_type": "stream",
     "text": [
      "word_ids [27135, 7, 1614, 6577, 8, 157, 10898, 21077, 7, 0, 0, 0, 0, 0, 0, 0, 0, 0, 0, 0] len: 20\n",
      "厄瓜多尔/ /美丽/神秘/的/南/美洲/国度/ \n",
      "厄瓜多尔/ /美丽/神秘/的/南/美洲/国度/ \n",
      "0 [20, 1] <UNK>/<EOS> 0.0155836963367 -4.16153 -4.16153 [-3.674087, -0.48744279]\n"
     ]
    },
    {
     "data": {
      "image/png": "[encoded data removed]",
      "text/plain": [
       "<matplotlib.figure.Figure at 0x1ca8bf10>"
      ]
     },
     "metadata": {},
     "output_type": "display_data"
    },
    {
     "name": "stdout",
     "output_type": "stream",
     "text": [
      "厄瓜多尔/ /美丽/神秘/的/南/美洲/国度/ \n",
      "1 [157, 10898, 1] 南/美洲/<EOS> 0.0125418941565 -4.37868 -4.37868 [-2.4753003, -0.050797064, -1.8525833]\n"
     ]
    },
    {
     "data": {
      "image/png": "[encoded data removed]",
      "text/plain": [
       "<matplotlib.figure.Figure at 0x1cbfa410>"
      ]
     },
     "metadata": {},
     "output_type": "display_data"
    },
    {
     "name": "stdout",
     "output_type": "stream",
     "text": [
      "厄瓜多尔/ /美丽/神秘/的/南/美洲/国度/ \n",
      "2 [157, 10898, 6, 1] 南/美洲/图片/<EOS> 0.00189774237956 -6.26709 -6.26709 [-2.4753003, -0.050797064, -3.542109, -0.19888401]\n"
     ]
    },
    {
     "data": {
      "image/png": "[encoded data removed]",
      "text/plain": [
       "<matplotlib.figure.Figure at 0x1caaea10>"
      ]
     },
     "metadata": {},
     "output_type": "display_data"
    },
    {
     "name": "stdout",
     "output_type": "stream",
     "text": [
      "厄瓜多尔/ /美丽/神秘/的/南/美洲/国度/ \n",
      "3 [9525, 1] 夏威夷/<EOS> 0.00173148459248 -6.35878 -6.35878 [-4.0814919, -2.2772844]\n"
     ]
    },
    {
     "data": {
      "image/png": "[encoded data removed]",
      "text/plain": [
       "<matplotlib.figure.Figure at 0x1cad8dd0>"
      ]
     },
     "metadata": {},
     "output_type": "display_data"
    },
    {
     "name": "stdout",
     "output_type": "stream",
     "text": [
      "厄瓜多尔/ /美丽/神秘/的/南/美洲/国度/ \n",
      "4 [157, 10898, 10258, 1] 南/美洲/群岛/<EOS> 0.00124954640389 -6.68497 -6.68497 [-2.4753003, -0.050797064, -2.7171435, -1.4417338]\n"
     ]
    },
    {
     "data": {
      "image/png": "[encoded data removed]",
      "text/plain": [
       "<matplotlib.figure.Figure at 0x1cae3410>"
      ]
     },
     "metadata": {},
     "output_type": "display_data"
    },
    {
     "name": "stdout",
     "output_type": "stream",
     "text": [
      "beam search using time(ms): 620.345115662\n"
     ]
    }
   ],
   "source": [
    "inference('厄瓜多尔 美丽神秘的南美洲国度 ', 5)"
   ]
  },
  {
   "cell_type": "code",
   "execution_count": 21,
   "metadata": {
    "collapsed": false
   },
   "outputs": [
    {
     "name": "stdout",
     "output_type": "stream",
     "text": [
      "word_ids [1672, 485, 3243, 533, 392, 5154, 8, 1733, 16400, 670, 1817, 36325, 7, 1311, 148, 7, 31396, 213, 1343, 872] len: 20\n",
      "彭/于/晏/都/力/荐/的/《/寒战/2/》/imax/ /3d/版/ /华龙/网/送/票\n",
      "彭/于/晏/都/力/荐/的/《/寒战/2/》/imax/ /3d/版/ /华龙/网/送/票\n",
      "0 [16400, 670, 1] 寒战/2/<EOS> 0.0209531884908 -3.86546 -3.86546 [-2.1592665, -0.18988802, -1.51631]\n"
     ]
    },
    {
     "data": {
      "image/png": "[encoded data removed]",
      "text/plain": [
       "<matplotlib.figure.Figure at 0x1c87cd90>"
      ]
     },
     "metadata": {},
     "output_type": "display_data"
    },
    {
     "name": "stdout",
     "output_type": "stream",
     "text": [
      "彭/于/晏/都/力/荐/的/《/寒战/2/》/imax/ /3d/版/ /华龙/网/送/票\n",
      "1 [1672, 485, 3243, 16400, 670, 1] 彭/于/晏/寒战/2/<EOS> 0.0121801810035 -4.40795 -4.40795 [-1.9980432, -0.0035636034, -0.064464472, -0.81229103, -0.71439886, -0.815184]\n"
     ]
    },
    {
     "data": {
      "image/png": "[encoded data removed]",
      "text/plain": [
       "<matplotlib.figure.Figure at 0x1cc8ebd0>"
      ]
     },
     "metadata": {},
     "output_type": "display_data"
    },
    {
     "name": "stdout",
     "output_type": "stream",
     "text": [
      "彭/于/晏/都/力/荐/的/《/寒战/2/》/imax/ /3d/版/ /华龙/网/送/票\n",
      "2 [20, 1] <UNK>/<EOS> 0.00758386386988 -4.88173 -4.88173 [-4.2523413, -0.62939119]\n"
     ]
    },
    {
     "data": {
      "image/png": "[encoded data removed]",
      "text/plain": [
       "<matplotlib.figure.Figure at 0x1cccb590>"
      ]
     },
     "metadata": {},
     "output_type": "display_data"
    },
    {
     "name": "stdout",
     "output_type": "stream",
     "text": [
      "beam search using time(ms): 412.487983704\n"
     ]
    }
   ],
   "source": [
    "inference('彭于晏都力荐的《寒战2》imax 3d版 华龙网送票邀你提前看', 3)"
   ]
  },
  {
   "cell_type": "code",
   "execution_count": 33,
   "metadata": {
    "collapsed": false
   },
   "outputs": [
    {
     "name": "stdout",
     "output_type": "stream",
     "text": [
      "word_ids [164, 926, 649, 210, 164, 3144, 8, 1213, 0, 0, 0, 0, 0, 0, 0, 0, 0, 0, 0, 0] len: 20\n",
      "刘/亦/菲/是/刘/诗诗/的/朋友\n",
      "刘/亦/菲/是/刘/诗诗/的/朋友\n",
      "0 [164, 926, 649, 164, 926, 649, 1] 刘/亦/菲/刘/亦/菲/<EOS> 0.0570209797092 -2.86434 -2.86434 [-0.030430127, -0.084550127, -0.0017682168, -1.16663, -0.28756943, -0.0016098171, -1.2917783]\n"
     ]
    },
    {
     "data": {
      "image/png": "[encoded data removed]",
      "text/plain": [
       "<matplotlib.figure.Figure at 0x1cc8a5d0>"
      ]
     },
     "metadata": {},
     "output_type": "display_data"
    },
    {
     "name": "stdout",
     "output_type": "stream",
     "text": [
      "刘/亦/菲/是/刘/诗诗/的/朋友\n",
      "1 [164, 926, 649, 1] 刘/亦/菲/<EOS> 0.0311763408031 -3.4681 -3.4681 [-0.030430127, -0.084550127, -0.0017682168, -3.3513472]\n"
     ]
    },
    {
     "data": {
      "image/png": "[encoded data removed]",
      "text/plain": [
       "<matplotlib.figure.Figure at 0x1ca73ad0>"
      ]
     },
     "metadata": {},
     "output_type": "display_data"
    },
    {
     "name": "stdout",
     "output_type": "stream",
     "text": [
      "刘/亦/菲/是/刘/诗诗/的/朋友\n",
      "2 [164, 926, 649, 7, 164, 926, 649, 1] 刘/亦/菲/ /刘/亦/菲/<EOS> 0.0220866630633 -3.81278 -3.81278 [-0.030430127, -0.084550127, -0.0017682168, -2.6466668, -0.52187729, -0.11485574, -0.00097310863, -0.41165972]\n"
     ]
    },
    {
     "data": {
      "image/png": "[encoded data removed]",
      "text/plain": [
       "<matplotlib.figure.Figure at 0x1c860a10>"
      ]
     },
     "metadata": {},
     "output_type": "display_data"
    },
    {
     "name": "stdout",
     "output_type": "stream",
     "text": [
      "beam search using time(ms): 504.365205765\n"
     ]
    }
   ],
   "source": [
    "inference('刘亦菲是刘诗诗的朋友', 3)"
   ]
  },
  {
   "cell_type": "code",
   "execution_count": 31,
   "metadata": {
    "collapsed": false
   },
   "outputs": [
    {
     "name": "stdout",
     "output_type": "stream",
     "text": [
      "word_ids [88, 1231, 1398, 42999, 164, 926, 649, 0, 0, 0, 0, 0, 0, 0, 0, 0, 0, 0, 0, 0] len: 20\n",
      "张/柏/芝/酷似/刘/亦/菲\n",
      "张/柏/芝/酷似/刘/亦/菲\n",
      "0 [164, 926, 649, 88, 1231, 1398, 1] 刘/亦/菲/张/柏/芝/<EOS> 0.031440493256 -3.45966 -3.45966 [-0.70830119, -0.0025198869, -0.001623504, -1.7779262, -0.049432281, -0.014561454, -0.90529412]\n"
     ]
    },
    {
     "data": {
      "image/png": "[encoded data removed]",
      "text/plain": [
       "<matplotlib.figure.Figure at 0x1ae32050>"
      ]
     },
     "metadata": {},
     "output_type": "display_data"
    },
    {
     "name": "stdout",
     "output_type": "stream",
     "text": [
      "张/柏/芝/酷似/刘/亦/菲\n",
      "1 [164, 926, 649, 1] 刘/亦/菲/<EOS> 0.0203200973194 -3.89614 -3.89614 [-0.70830119, -0.0025198869, -0.001623504, -3.1837003]\n"
     ]
    },
    {
     "data": {
      "image/png": "[encoded data removed]",
      "text/plain": [
       "<matplotlib.figure.Figure at 0x1ae5eb50>"
      ]
     },
     "metadata": {},
     "output_type": "display_data"
    },
    {
     "name": "stdout",
     "output_type": "stream",
     "text": [
      "张/柏/芝/酷似/刘/亦/菲\n",
      "2 [88, 1231, 1398, 1] 张/柏/芝/<EOS> 0.0170446571576 -4.07192 -4.07192 [-1.2349449, -0.021773579, -0.013937172, -2.8012629]\n"
     ]
    },
    {
     "data": {
      "image/png": "[encoded data removed]",
      "text/plain": [
       "<matplotlib.figure.Figure at 0x1cc60b90>"
      ]
     },
     "metadata": {},
     "output_type": "display_data"
    },
    {
     "name": "stdout",
     "output_type": "stream",
     "text": [
      "beam search using time(ms): 498.916149139\n"
     ]
    }
   ],
   "source": [
    "inference('张柏芝酷似刘亦菲', 3)"
   ]
  },
  {
   "cell_type": "code",
   "execution_count": 34,
   "metadata": {
    "collapsed": false
   },
   "outputs": [
    {
     "name": "stdout",
     "output_type": "stream",
     "text": [
      "word_ids [210, 164, 926, 649, 84, 210, 869, 1474, 363, 0, 0, 0, 0, 0, 0, 0, 0, 0, 0, 0] len: 20\n",
      "是/刘/亦/菲/不/是/朴/姬/兰\n",
      "是/刘/亦/菲/不/是/朴/姬/兰\n",
      "0 [164, 926, 649, 1] 刘/亦/菲/<EOS> 0.039606363164 -3.22877 -3.22877 [-1.0114243, -0.0059977551, -0.0030657693, -2.2082775]\n"
     ]
    },
    {
     "data": {
      "image/png": "[encoded data removed]",
      "text/plain": [
       "<matplotlib.figure.Figure at 0x1c6bf350>"
      ]
     },
     "metadata": {},
     "output_type": "display_data"
    },
    {
     "name": "stdout",
     "output_type": "stream",
     "text": [
      "是/刘/亦/菲/不/是/朴/姬/兰\n",
      "1 [164, 926, 649, 6, 1] 刘/亦/菲/图片/<EOS> 0.0128463346363 -4.3547 -4.3547 [-1.0114243, -0.0059977551, -0.0030657693, -2.8507164, -0.4834922]\n"
     ]
    },
    {
     "data": {
      "image/png": "[encoded data removed]",
      "text/plain": [
       "<matplotlib.figure.Figure at 0x7f4dec048590>"
      ]
     },
     "metadata": {},
     "output_type": "display_data"
    },
    {
     "name": "stdout",
     "output_type": "stream",
     "text": [
      "是/刘/亦/菲/不/是/朴/姬/兰\n",
      "2 [20, 1] <UNK>/<EOS> 0.0125625316784 -4.37704 -4.37704 [-3.8793261, -0.49771059]\n"
     ]
    },
    {
     "data": {
      "image/png": "[encoded data removed]",
      "text/plain": [
       "<matplotlib.figure.Figure at 0x1c92fc10>"
      ]
     },
     "metadata": {},
     "output_type": "display_data"
    },
    {
     "name": "stdout",
     "output_type": "stream",
     "text": [
      "beam search using time(ms): 515.805959702\n"
     ]
    }
   ],
   "source": [
    "inference('是刘亦菲不是朴姬兰', 3)"
   ]
  },
  {
   "cell_type": "code",
   "execution_count": 36,
   "metadata": {
    "collapsed": false
   },
   "outputs": [
    {
     "name": "stdout",
     "output_type": "stream",
     "text": [
      "word_ids [210, 88, 1231, 1398, 84, 210, 164, 926, 649, 0, 0, 0, 0, 0, 0, 0, 0, 0, 0, 0] len: 20\n",
      "是/张/柏/芝/不/是/刘/亦/菲\n",
      "是/张/柏/芝/不/是/刘/亦/菲\n",
      "0 [164, 926, 649, 1] 刘/亦/菲/<EOS> 0.0203802214763 -3.89319 -3.89319 [-0.89004534, -0.0021301454, -0.0017056216, -2.9993093]\n"
     ]
    },
    {
     "data": {
      "image/png": "[encoded data removed]",
      "text/plain": [
       "<matplotlib.figure.Figure at 0x1db7ed50>"
      ]
     },
     "metadata": {},
     "output_type": "display_data"
    },
    {
     "name": "stdout",
     "output_type": "stream",
     "text": [
      "是/张/柏/芝/不/是/刘/亦/菲\n",
      "1 [88, 1231, 1398, 1] 张/柏/芝/<EOS> 0.0132985748967 -4.3201 -4.3201 [-1.4849637, -0.024790976, -0.018560776, -2.7917829]\n"
     ]
    },
    {
     "data": {
      "image/png": "[encoded data removed]",
      "text/plain": [
       "<matplotlib.figure.Figure at 0x1af81290>"
      ]
     },
     "metadata": {},
     "output_type": "display_data"
    },
    {
     "name": "stdout",
     "output_type": "stream",
     "text": [
      "是/张/柏/芝/不/是/刘/亦/菲\n",
      "2 [164, 926, 649, 88, 1231, 1398, 1] 刘/亦/菲/张/柏/芝/<EOS> 0.0109506118122 -4.51436 -4.51436 [-0.89004534, -0.0021301454, -0.0017056216, -2.555104, -0.064079136, -0.016432311, -0.98486364]\n"
     ]
    },
    {
     "data": {
      "image/png": "[encoded data removed]",
      "text/plain": [
       "<matplotlib.figure.Figure at 0x1c88b4d0>"
      ]
     },
     "metadata": {},
     "output_type": "display_data"
    },
    {
     "name": "stdout",
     "output_type": "stream",
     "text": [
      "beam search using time(ms): 511.723041534\n"
     ]
    }
   ],
   "source": [
    "inference('是张柏芝不是刘亦菲', 3)"
   ]
  },
  {
   "cell_type": "code",
   "execution_count": null,
   "metadata": {
    "collapsed": true
   },
   "outputs": [],
   "source": []
  }
 ],
 "metadata": {
  "kernelspec": {
   "display_name": "Python 2",
   "language": "python",
   "name": "python2"
  },
  "language_info": {
   "codemirror_mode": {
    "name": "ipython",
    "version": 2
   },
   "file_extension": ".py",
   "mimetype": "text/x-python",
   "name": "python",
   "nbconvert_exporter": "python",
   "pygments_lexer": "ipython2",
   "version": "2.7.5"
  }
 },
 "nbformat": 4,
 "nbformat_minor": 0
}
