{
 "cells": [
  {
   "cell_type": "code",
   "execution_count": 1,
   "metadata": {
    "collapsed": true
   },
   "outputs": [],
   "source": [
    "import jieba"
   ]
  },
  {
   "cell_type": "code",
   "execution_count": 5,
   "metadata": {
    "collapsed": false
   },
   "outputs": [],
   "source": [
    "l = jieba.cut('她在舞台上拉小提琴')"
   ]
  },
  {
   "cell_type": "code",
   "execution_count": 6,
   "metadata": {
    "collapsed": false
   },
   "outputs": [
    {
     "name": "stdout",
     "output_type": "stream",
     "text": [
      "她 在 舞台 上拉 小提琴\n"
     ]
    }
   ],
   "source": [
    "print(' '.join(l))"
   ]
  },
  {
   "cell_type": "code",
   "execution_count": 24,
   "metadata": {
    "collapsed": false
   },
   "outputs": [
    {
     "name": "stdout",
     "output_type": "stream",
     "text": [
      "两个 拿 着 奖杯 的 女人 面带笑容 地站 在 整洁 的 道路 上\n"
     ]
    }
   ],
   "source": [
    "print(' '.join(jieba.cut('两个拿着奖杯的女人面带笑容地站在整洁的道路上')))"
   ]
  },
  {
   "cell_type": "code",
   "execution_count": 25,
   "metadata": {
    "collapsed": false
   },
   "outputs": [
    {
     "name": "stdout",
     "output_type": "stream",
     "text": [
      "两个 手里 拿 着 奖杯 的 运动员 站 在 光亮 的 屋子里\n"
     ]
    }
   ],
   "source": [
    "print(' '.join(jieba.cut('两个手里拿着奖杯的运动员站在光亮的屋子里')))"
   ]
  },
  {
   "cell_type": "code",
   "execution_count": 7,
   "metadata": {
    "collapsed": false
   },
   "outputs": [
    {
     "name": "stdout",
     "output_type": "stream",
     "text": [
      "Help on method cut in module jieba:\n",
      "\n",
      "cut(self, sentence, cut_all=False, HMM=True) method of jieba.Tokenizer instance\n",
      "    The main function that segments an entire sentence that contains\n",
      "    Chinese characters into seperated words.\n",
      "    \n",
      "    Parameter:\n",
      "        - sentence: The str(unicode) to be segmented.\n",
      "        - cut_all: Model type. True for full pattern, False for accurate pattern.\n",
      "        - HMM: Whether to use the Hidden Markov Model.\n",
      "\n"
     ]
    }
   ],
   "source": [
    "help(jieba.cut)"
   ]
  },
  {
   "cell_type": "code",
   "execution_count": 14,
   "metadata": {
    "collapsed": false
   },
   "outputs": [],
   "source": [
    "from libgezi import utf82gbk, gbk2utf8"
   ]
  },
  {
   "cell_type": "code",
   "execution_count": 22,
   "metadata": {
    "collapsed": true
   },
   "outputs": [],
   "source": [
    "l = jieba.cut(utf82gbk('她在舞台上拉小提琴'))"
   ]
  },
  {
   "cell_type": "code",
   "execution_count": 23,
   "metadata": {
    "collapsed": false
   },
   "outputs": [
    {
     "name": "stdout",
     "output_type": "stream",
     "text": [
      "她\n",
      "在\n",
      "舞台\n",
      "上拉\n",
      "小提琴\n"
     ]
    }
   ],
   "source": [
    "for item in l:\n",
    "    print item.encode('utf8')"
   ]
  },
  {
   "cell_type": "code",
   "execution_count": 17,
   "metadata": {
    "collapsed": false
   },
   "outputs": [
    {
     "name": "stdout",
     "output_type": "stream",
     "text": [
      "Help on built-in function utf82gbk in module libgezi:\n",
      "\n",
      "utf82gbk(...)\n",
      "    utf82gbk( (str)src [, (int)flags=0]) -> str :\n",
      "    \n",
      "        C++ signature :\n",
      "            std::string utf82gbk(std::string [,int=0])\n",
      "    \n",
      "    utf82gbk( (str)src [, (int)flags=0]) -> str :\n",
      "    \n",
      "        C++ signature :\n",
      "            std::string utf82gbk(std::string [,int=0])\n",
      "\n"
     ]
    }
   ],
   "source": [
    "help(utf82gbk)"
   ]
  },
  {
   "cell_type": "code",
   "execution_count": 18,
   "metadata": {
    "collapsed": false
   },
   "outputs": [
    {
     "name": "stdout",
     "output_type": "stream",
     "text": [
      "Help on built-in function gbk2utf8 in module libgezi:\n",
      "\n",
      "gbk2utf8(...)\n",
      "    gbk2utf8( (str)src [, (int)flags=0]) -> str :\n",
      "    \n",
      "        C++ signature :\n",
      "            std::string gbk2utf8(std::string [,int=0])\n",
      "    \n",
      "    gbk2utf8( (str)src [, (int)flags=0]) -> str :\n",
      "    \n",
      "        C++ signature :\n",
      "            std::string gbk2utf8(std::string [,int=0])\n",
      "\n"
     ]
    }
   ],
   "source": [
    "help(gbk2utf8)"
   ]
  },
  {
   "cell_type": "code",
   "execution_count": null,
   "metadata": {
    "collapsed": true
   },
   "outputs": [],
   "source": []
  }
 ],
 "metadata": {
  "kernelspec": {
   "display_name": "Python 2",
   "language": "python",
   "name": "python2"
  },
  "language_info": {
   "codemirror_mode": {
    "name": "ipython",
    "version": 2
   },
   "file_extension": ".py",
   "mimetype": "text/x-python",
   "name": "python",
   "nbconvert_exporter": "python",
   "pygments_lexer": "ipython2",
   "version": "2.7.5"
  }
 },
 "nbformat": 4,
 "nbformat_minor": 0
}
